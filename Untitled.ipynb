{
 "cells": [
  {
   "cell_type": "code",
   "execution_count": 1,
   "metadata": {},
   "outputs": [],
   "source": [
    "#0. Setup\n",
    "WORKSPACE_PATH = 'Tensorflow/workspace'\n",
    "SCRIPTS_PATH = 'Tensorflow/scripts'\n",
    "APIMODEL_PATH = 'Tensorflow/models'\n",
    "ANNOTATION_PATH = WORKSPACE_PATH +'/annotations/'\n",
    "IMAGE_PATH = WORKSPACE_PATH+'/images'\n",
    "MODEL_PATH = WORKSPACE_PATH+'/models'\n",
    "PRETRAINED_MODEL_PATH = WORKSPACE_PATH+'/pre-trained-models'\n",
    "CONFIG_PATH = MODEL_PATH+'/my_ssd_mobnet/pipeline.config'\n",
    "CHECKPOINT_PATH = MODEL_PATH+'/my_ssd_mobnet/'"
   ]
  },
  {
   "cell_type": "code",
   "execution_count": 6,
   "metadata": {},
   "outputs": [],
   "source": [
    "#1. Create Label map\n",
    "labels = [{'name':'with_mask', 'id':1}]"
   ]
  },
  {
   "cell_type": "code",
   "execution_count": 7,
   "metadata": {},
   "outputs": [
    {
     "data": {
      "text/plain": [
       "[{'name': 'with_mask', 'id': 1}]"
      ]
     },
     "execution_count": 7,
     "metadata": {},
     "output_type": "execute_result"
    }
   ],
   "source": [
    "labels\n"
   ]
  },
  {
   "cell_type": "code",
   "execution_count": 8,
   "metadata": {},
   "outputs": [],
   "source": [
    "with open('C:/Users/anuja/Desktop/RealTimeObjectDetection-main/Tensorflow/workspace/annotations/' + 'label_map.pbtxt', 'w') as f:\n",
    "    for label in labels:\n",
    "        f.write('item { \\n')\n",
    "        f.write('\\tname:\\'{}\\'\\n'.format(label['name']))\n",
    "        f.write('\\tid:{}\\n'.format(label['id']))\n",
    "        f.write('}\\n')"
   ]
  },
  {
   "cell_type": "code",
   "execution_count": 9,
   "metadata": {},
   "outputs": [
    {
     "name": "stderr",
     "output_type": "stream",
     "text": [
      "Traceback (most recent call last):\n",
      "  File \"C:/Users/anuja/Desktop/RealTimeObjectDetection-main/Tensorflow/scripts/generate_tfrecord.py\", line 168, in <module>\n",
      "    tf.app.run()\n",
      "  File \"C:\\Users\\anuja\\anaconda3\\envs\\venv\\lib\\site-packages\\tensorflow_core\\python\\platform\\app.py\", line 40, in run\n",
      "    _run(main=main, argv=argv, flags_parser=_parse_flags_tolerate_undef)\n",
      "  File \"C:\\Users\\anuja\\anaconda3\\envs\\venv\\lib\\site-packages\\absl\\app.py\", line 303, in run\n",
      "    _run_main(main, args)\n",
      "  File \"C:\\Users\\anuja\\anaconda3\\envs\\venv\\lib\\site-packages\\absl\\app.py\", line 251, in _run_main\n",
      "    sys.exit(main(argv))\n",
      "  File \"C:/Users/anuja/Desktop/RealTimeObjectDetection-main/Tensorflow/scripts/generate_tfrecord.py\", line 155, in main\n",
      "    examples = xml_to_csv(args.xml_dir)\n",
      "  File \"C:/Users/anuja/Desktop/RealTimeObjectDetection-main/Tensorflow/scripts/generate_tfrecord.py\", line 88, in xml_to_csv\n",
      "    int(member[4][0].text),\n",
      "IndexError: child index out of range\n",
      "Traceback (most recent call last):\n",
      "  File \"C:/Users/anuja/Desktop/RealTimeObjectDetection-main/Tensorflow/scripts/generate_tfrecord.py\", line 168, in <module>\n",
      "    tf.app.run()\n",
      "  File \"C:\\Users\\anuja\\anaconda3\\envs\\venv\\lib\\site-packages\\tensorflow_core\\python\\platform\\app.py\", line 40, in run\n",
      "    _run(main=main, argv=argv, flags_parser=_parse_flags_tolerate_undef)\n",
      "  File \"C:\\Users\\anuja\\anaconda3\\envs\\venv\\lib\\site-packages\\absl\\app.py\", line 303, in run\n",
      "    _run_main(main, args)\n",
      "  File \"C:\\Users\\anuja\\anaconda3\\envs\\venv\\lib\\site-packages\\absl\\app.py\", line 251, in _run_main\n",
      "    sys.exit(main(argv))\n",
      "  File \"C:/Users/anuja/Desktop/RealTimeObjectDetection-main/Tensorflow/scripts/generate_tfrecord.py\", line 155, in main\n",
      "    examples = xml_to_csv(args.xml_dir)\n",
      "  File \"C:/Users/anuja/Desktop/RealTimeObjectDetection-main/Tensorflow/scripts/generate_tfrecord.py\", line 88, in xml_to_csv\n",
      "    int(member[4][0].text),\n",
      "IndexError: child index out of range\n"
     ]
    }
   ],
   "source": [
    "#2. Create TF records\n",
    "!python {'C:/Users/anuja/Desktop/RealTimeObjectDetection-main/Tensorflow/scripts' + '/generate_tfrecord.py'} -x {'C:/Users/anuja/Desktop/RealTimeObjectDetection-main/Tensorflow/workspace/images' + '/train'} -l {'C:/Users/anuja/Desktop/RealTimeObjectDetection-main/Tensorflow/workspace/annotations' + '/label_map.pbtxt'} -o {'C:/Users/anuja/Desktop/RealTimeObjectDetection-main/Tensorflow/workspace/annotations' + '/train.record'}\n",
    "!python {'C:/Users/anuja/Desktop/RealTimeObjectDetection-main/Tensorflow/scripts' + '/generate_tfrecord.py'} -x {'C:/Users/anuja/Desktop/RealTimeObjectDetection-main/Tensorflow/workspace/images' + '/test'} -l {'C:/Users/anuja/Desktop/RealTimeObjectDetection-main/Tensorflow/workspace/annotations' + '/label_map.pbtxt'} -o {'C:/Users/anuja/Desktop/RealTimeObjectDetection-main/Tensorflow/workspace/annotations' + '/test.record'}"
   ]
  },
  {
   "cell_type": "code",
   "execution_count": null,
   "metadata": {},
   "outputs": [],
   "source": []
  }
 ],
 "metadata": {
  "kernelspec": {
   "display_name": "Python 3",
   "language": "python",
   "name": "python3"
  },
  "language_info": {
   "codemirror_mode": {
    "name": "ipython",
    "version": 3
   },
   "file_extension": ".py",
   "mimetype": "text/x-python",
   "name": "python",
   "nbconvert_exporter": "python",
   "pygments_lexer": "ipython3",
   "version": "3.7.9"
  }
 },
 "nbformat": 4,
 "nbformat_minor": 4
}
